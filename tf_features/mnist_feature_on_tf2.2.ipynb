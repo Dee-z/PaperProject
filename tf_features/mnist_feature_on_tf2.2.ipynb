{
 "cells": [
  {
   "cell_type": "code",
   "execution_count": 1,
   "metadata": {},
   "outputs": [],
   "source": [
    "import numpy as np \n",
    "import tensorflow as tf \n",
    "from matplotlib import pyplot as plt "
   ]
  },
  {
   "cell_type": "markdown",
   "metadata": {},
   "source": [
    "#### data"
   ]
  },
  {
   "cell_type": "markdown",
   "metadata": {},
   "source": [
    "##### load data "
   ]
  },
  {
   "cell_type": "code",
   "execution_count": 2,
   "metadata": {},
   "outputs": [],
   "source": [
    "path = \"./data/mnist.npz\"\n",
    "mnist = np.load(path)\n",
    "x_train, y_train = mnist['x_train'], mnist['y_train']"
   ]
  },
  {
   "cell_type": "markdown",
   "metadata": {},
   "source": [
    "##### data process"
   ]
  },
  {
   "cell_type": "code",
   "execution_count": 9,
   "metadata": {},
   "outputs": [],
   "source": [
    "x = 2 * tf.convert_to_tensor(x_train, dtype=tf.float32) / 255. - 1\n",
    "x = tf.reshape(x, [-1, 28 * 28])\n",
    "y = tf.convert_to_tensor(y_train, dtype=tf.int32)\n",
    "y =  tf.one_hot(y, depth = 10)"
   ]
  },
  {
   "cell_type": "code",
   "execution_count": 10,
   "metadata": {},
   "outputs": [
    {
     "data": {
      "text/plain": [
       "<tf.Tensor: shape=(60000, 10), dtype=float32, numpy=\n",
       "array([[0., 0., 0., ..., 0., 0., 0.],\n",
       "       [1., 0., 0., ..., 0., 0., 0.],\n",
       "       [0., 0., 0., ..., 0., 0., 0.],\n",
       "       ...,\n",
       "       [0., 0., 0., ..., 0., 0., 0.],\n",
       "       [0., 0., 0., ..., 0., 0., 0.],\n",
       "       [0., 0., 0., ..., 0., 1., 0.]], dtype=float32)>"
      ]
     },
     "execution_count": 10,
     "metadata": {},
     "output_type": "execute_result"
    }
   ],
   "source": [
    "y"
   ]
  },
  {
   "cell_type": "markdown",
   "metadata": {},
   "source": [
    "#### network"
   ]
  },
  {
   "cell_type": "code",
   "execution_count": 12,
   "metadata": {},
   "outputs": [],
   "source": [
    "w1 = tf.Variable(tf.random.truncated_normal([784, 256], stddev=0.1))\n",
    "b1 = tf.Variable(tf.zeros([256]))\n",
    "\n",
    "w2 = tf.Variable(tf.random.truncated_normal([256, 128], stddev=0.1))\n",
    "b2 = tf.Variable(tf.zeros([128]))\n",
    "\n",
    "w3 = tf.Variable(tf.random.truncated_normal([128, 10], stddev=0.1))\n",
    "b3 = tf.Variable(tf.zeros([10]))"
   ]
  },
  {
   "cell_type": "code",
   "execution_count": 13,
   "metadata": {},
   "outputs": [],
   "source": [
    "train_db = tf.data.Dataset.from_tensor_slices((x, y)).batch(100)"
   ]
  },
  {
   "cell_type": "code",
   "execution_count": 14,
   "metadata": {},
   "outputs": [],
   "source": [
    "lr =0.001\n",
    "losses = []"
   ]
  },
  {
   "cell_type": "code",
   "execution_count": 19,
   "metadata": {},
   "outputs": [
    {
     "name": "stdout",
     "output_type": "stream",
     "text": [
      "0 : 0 : loss: 2.3517792224884033\n",
      "0 : 500 : loss: 0.21259796619415283\n",
      "1 : 0 : loss: 0.19316543638706207\n",
      "1 : 500 : loss: 0.14450398087501526\n",
      "2 : 0 : loss: 0.13948769867420197\n",
      "2 : 500 : loss: 0.11884675920009613\n",
      "3 : 0 : loss: 0.1166887953877449\n",
      "3 : 500 : loss: 0.10456406325101852\n",
      "4 : 0 : loss: 0.10322362929582596\n",
      "4 : 500 : loss: 0.09531162679195404\n",
      "5 : 0 : loss: 0.09417220205068588\n",
      "5 : 500 : loss: 0.08849161863327026\n",
      "6 : 0 : loss: 0.08736713975667953\n",
      "6 : 500 : loss: 0.08319595456123352\n",
      "7 : 0 : loss: 0.08218052983283997\n",
      "7 : 500 : loss: 0.07910453528165817\n",
      "8 : 0 : loss: 0.07803167402744293\n",
      "8 : 500 : loss: 0.07585441321134567\n",
      "9 : 0 : loss: 0.0745965987443924\n",
      "9 : 500 : loss: 0.07312986254692078\n",
      "10 : 0 : loss: 0.07167553901672363\n",
      "10 : 500 : loss: 0.07078277319669724\n",
      "11 : 0 : loss: 0.0692465677857399\n",
      "11 : 500 : loss: 0.06877852231264114\n",
      "12 : 0 : loss: 0.06719839572906494\n",
      "12 : 500 : loss: 0.06709723174571991\n",
      "13 : 0 : loss: 0.0653851255774498\n",
      "13 : 500 : loss: 0.06562847644090652\n",
      "14 : 0 : loss: 0.06378087401390076\n",
      "14 : 500 : loss: 0.06428350508213043\n",
      "15 : 0 : loss: 0.06233736500144005\n",
      "15 : 500 : loss: 0.06308024376630783\n",
      "16 : 0 : loss: 0.06102093681693077\n",
      "16 : 500 : loss: 0.06200015917420387\n",
      "17 : 0 : loss: 0.05983412265777588\n",
      "17 : 500 : loss: 0.06098911166191101\n",
      "18 : 0 : loss: 0.05874708667397499\n",
      "18 : 500 : loss: 0.06004685163497925\n",
      "19 : 0 : loss: 0.05774391070008278\n",
      "19 : 500 : loss: 0.059151917695999146\n"
     ]
    }
   ],
   "source": [
    "for epoch in range(20):\n",
    "    for step, (x, y) in enumerate(train_db):\n",
    "        with tf.GradientTape() as tape:\n",
    "            h1 = x@w1 + tf.broadcast_to(b1, [x.shape[0], 256])\n",
    "            h1 = tf.nn.relu(h1)\n",
    "\n",
    "            h2 = h1 @ w2 + b2\n",
    "            h2 = tf.nn.relu(h2)\n",
    "\n",
    "            out = h2 @ w3 + b3\n",
    "\n",
    "            # loss\n",
    "            loss = tf.square(y - out)\n",
    "            loss = tf.reduce_mean(loss)\n",
    "\n",
    "        grads = tape.gradient(loss, [w1, b1, w2, b2, w3, b3])\n",
    "        w1.assign_sub(lr * grads[0])\n",
    "        b1.assign_sub(lr * grads[1])\n",
    "        w2.assign_sub(lr * grads[2])\n",
    "        b2.assign_sub(lr * grads[3])\n",
    "        w3.assign_sub(lr * grads[4])\n",
    "        b3.assign_sub(lr * grads[5])\n",
    "\n",
    "        if step % 500 == 0: print(epoch, ':', step, ':', 'loss:', float(loss))\n",
    "            \n",
    "    losses.append(float(loss))"
   ]
  },
  {
   "cell_type": "code",
   "execution_count": 20,
   "metadata": {},
   "outputs": [
    {
     "data": {
      "image/png": "[encoded data removed]",
      "text/plain": [
       "<Figure size 432x288 with 1 Axes>"
      ]
     },
     "metadata": {
      "needs_background": "light"
     },
     "output_type": "display_data"
    }
   ],
   "source": [
    "plt.plot(losses, marker='s',label='training')\n",
    "plt.xlabel('Epoch')\n",
    "plt.ylabel('MSE')\n",
    "plt.legend()\n",
    "plt.show()"
   ]
  },
  {
   "cell_type": "code",
   "execution_count": null,
   "metadata": {},
   "outputs": [],
   "source": []
  }
 ],
 "metadata": {
  "kernelspec": {
   "display_name": "Python 3",
   "language": "python",
   "name": "python3"
  },
  "language_info": {
   "codemirror_mode": {
    "name": "ipython",
    "version": 3
   },
   "file_extension": ".py",
   "mimetype": "text/x-python",
   "name": "python",
   "nbconvert_exporter": "python",
   "pygments_lexer": "ipython3",
   "version": "3.7.5"
  },
  "toc": {
   "base_numbering": 1,
   "nav_menu": {},
   "number_sections": true,
   "sideBar": true,
   "skip_h1_title": false,
   "title_cell": "Table of Contents",
   "title_sidebar": "Contents",
   "toc_cell": false,
   "toc_position": {},
   "toc_section_display": true,
   "toc_window_display": false
  }
 },
 "nbformat": 4,
 "nbformat_minor": 4
}
